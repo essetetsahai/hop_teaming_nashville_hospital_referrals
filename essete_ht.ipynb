{
 "cells": [
  {
   "cell_type": "code",
   "execution_count": 2,
   "id": "44148403",
   "metadata": {},
   "outputs": [],
   "source": [
    "import pandas as pd"
   ]
  },
  {
   "cell_type": "code",
   "execution_count": 3,
   "id": "5d732a84",
   "metadata": {},
   "outputs": [],
   "source": [
    "hop_teaming = pd.read_csv('Hop_Teaming_Data/DocGraph_Hop_Teaming_2018.csv', \n",
    "                          nrows = 100)"
   ]
  },
  {
   "cell_type": "code",
   "execution_count": 5,
   "id": "95805446",
   "metadata": {
    "scrolled": true
   },
   "outputs": [
    {
     "data": {
      "text/html": [
       "<div>\n",
       "<style scoped>\n",
       "    .dataframe tbody tr th:only-of-type {\n",
       "        vertical-align: middle;\n",
       "    }\n",
       "\n",
       "    .dataframe tbody tr th {\n",
       "        vertical-align: top;\n",
       "    }\n",
       "\n",
       "    .dataframe thead th {\n",
       "        text-align: right;\n",
       "    }\n",
       "</style>\n",
       "<table border=\"1\" class=\"dataframe\">\n",
       "  <thead>\n",
       "    <tr style=\"text-align: right;\">\n",
       "      <th></th>\n",
       "      <th>from_npi</th>\n",
       "      <th>to_npi</th>\n",
       "      <th>patient_count</th>\n",
       "      <th>transaction_count</th>\n",
       "      <th>average_day_wait</th>\n",
       "      <th>std_day_wait</th>\n",
       "    </tr>\n",
       "  </thead>\n",
       "  <tbody>\n",
       "    <tr>\n",
       "      <th>0</th>\n",
       "      <td>1508062167</td>\n",
       "      <td>1730166109</td>\n",
       "      <td>350</td>\n",
       "      <td>370</td>\n",
       "      <td>53.922</td>\n",
       "      <td>72.612</td>\n",
       "    </tr>\n",
       "    <tr>\n",
       "      <th>1</th>\n",
       "      <td>1508065640</td>\n",
       "      <td>1730166109</td>\n",
       "      <td>25</td>\n",
       "      <td>25</td>\n",
       "      <td>49.800</td>\n",
       "      <td>55.006</td>\n",
       "    </tr>\n",
       "    <tr>\n",
       "      <th>2</th>\n",
       "      <td>1508052093</td>\n",
       "      <td>1730166109</td>\n",
       "      <td>16</td>\n",
       "      <td>16</td>\n",
       "      <td>109.500</td>\n",
       "      <td>70.593</td>\n",
       "    </tr>\n",
       "    <tr>\n",
       "      <th>3</th>\n",
       "      <td>1508172545</td>\n",
       "      <td>1730166109</td>\n",
       "      <td>14</td>\n",
       "      <td>14</td>\n",
       "      <td>103.357</td>\n",
       "      <td>75.483</td>\n",
       "    </tr>\n",
       "    <tr>\n",
       "      <th>4</th>\n",
       "      <td>1508285131</td>\n",
       "      <td>1730166109</td>\n",
       "      <td>20</td>\n",
       "      <td>21</td>\n",
       "      <td>89.952</td>\n",
       "      <td>89.880</td>\n",
       "    </tr>\n",
       "    <tr>\n",
       "      <th>5</th>\n",
       "      <td>1508252933</td>\n",
       "      <td>1730166109</td>\n",
       "      <td>16</td>\n",
       "      <td>16</td>\n",
       "      <td>78.750</td>\n",
       "      <td>103.169</td>\n",
       "    </tr>\n",
       "    <tr>\n",
       "      <th>6</th>\n",
       "      <td>1508076001</td>\n",
       "      <td>1730166109</td>\n",
       "      <td>46</td>\n",
       "      <td>48</td>\n",
       "      <td>72.625</td>\n",
       "      <td>83.263</td>\n",
       "    </tr>\n",
       "    <tr>\n",
       "      <th>7</th>\n",
       "      <td>1508085911</td>\n",
       "      <td>1730166125</td>\n",
       "      <td>58</td>\n",
       "      <td>67</td>\n",
       "      <td>23.925</td>\n",
       "      <td>43.923</td>\n",
       "    </tr>\n",
       "    <tr>\n",
       "      <th>8</th>\n",
       "      <td>1508093394</td>\n",
       "      <td>1730166125</td>\n",
       "      <td>15</td>\n",
       "      <td>15</td>\n",
       "      <td>37.400</td>\n",
       "      <td>79.602</td>\n",
       "    </tr>\n",
       "    <tr>\n",
       "      <th>9</th>\n",
       "      <td>1508132986</td>\n",
       "      <td>1730166125</td>\n",
       "      <td>11</td>\n",
       "      <td>11</td>\n",
       "      <td>97.364</td>\n",
       "      <td>62.152</td>\n",
       "    </tr>\n",
       "  </tbody>\n",
       "</table>\n",
       "</div>"
      ],
      "text/plain": [
       "     from_npi      to_npi  patient_count  transaction_count  average_day_wait  \\\n",
       "0  1508062167  1730166109            350                370            53.922   \n",
       "1  1508065640  1730166109             25                 25            49.800   \n",
       "2  1508052093  1730166109             16                 16           109.500   \n",
       "3  1508172545  1730166109             14                 14           103.357   \n",
       "4  1508285131  1730166109             20                 21            89.952   \n",
       "5  1508252933  1730166109             16                 16            78.750   \n",
       "6  1508076001  1730166109             46                 48            72.625   \n",
       "7  1508085911  1730166125             58                 67            23.925   \n",
       "8  1508093394  1730166125             15                 15            37.400   \n",
       "9  1508132986  1730166125             11                 11            97.364   \n",
       "\n",
       "   std_day_wait  \n",
       "0        72.612  \n",
       "1        55.006  \n",
       "2        70.593  \n",
       "3        75.483  \n",
       "4        89.880  \n",
       "5       103.169  \n",
       "6        83.263  \n",
       "7        43.923  \n",
       "8        79.602  \n",
       "9        62.152  "
      ]
     },
     "execution_count": 5,
     "metadata": {},
     "output_type": "execute_result"
    }
   ],
   "source": [
    "hop_teaming.head(10)"
   ]
  },
  {
   "cell_type": "code",
   "execution_count": 7,
   "id": "09943e47",
   "metadata": {},
   "outputs": [],
   "source": [
    "#Create chunk\n",
    "chunks = pd.read_csv('Hop_Teaming_Data/DocGraph_Hop_Teaming_2018.csv', chunksize=10000)"
   ]
  },
  {
   "cell_type": "code",
   "execution_count": 8,
   "id": "fc62a3fc",
   "metadata": {},
   "outputs": [
    {
     "data": {
      "text/html": [
       "<div>\n",
       "<style scoped>\n",
       "    .dataframe tbody tr th:only-of-type {\n",
       "        vertical-align: middle;\n",
       "    }\n",
       "\n",
       "    .dataframe tbody tr th {\n",
       "        vertical-align: top;\n",
       "    }\n",
       "\n",
       "    .dataframe thead th {\n",
       "        text-align: right;\n",
       "    }\n",
       "</style>\n",
       "<table border=\"1\" class=\"dataframe\">\n",
       "  <thead>\n",
       "    <tr style=\"text-align: right;\">\n",
       "      <th></th>\n",
       "      <th>from_npi</th>\n",
       "      <th>to_npi</th>\n",
       "      <th>patient_count</th>\n",
       "      <th>transaction_count</th>\n",
       "      <th>average_day_wait</th>\n",
       "      <th>std_day_wait</th>\n",
       "    </tr>\n",
       "  </thead>\n",
       "  <tbody>\n",
       "    <tr>\n",
       "      <th>0</th>\n",
       "      <td>1508062167</td>\n",
       "      <td>1730166109</td>\n",
       "      <td>350</td>\n",
       "      <td>370</td>\n",
       "      <td>53.922</td>\n",
       "      <td>72.612</td>\n",
       "    </tr>\n",
       "    <tr>\n",
       "      <th>1</th>\n",
       "      <td>1508065640</td>\n",
       "      <td>1730166109</td>\n",
       "      <td>25</td>\n",
       "      <td>25</td>\n",
       "      <td>49.800</td>\n",
       "      <td>55.006</td>\n",
       "    </tr>\n",
       "    <tr>\n",
       "      <th>2</th>\n",
       "      <td>1508052093</td>\n",
       "      <td>1730166109</td>\n",
       "      <td>16</td>\n",
       "      <td>16</td>\n",
       "      <td>109.500</td>\n",
       "      <td>70.593</td>\n",
       "    </tr>\n",
       "    <tr>\n",
       "      <th>3</th>\n",
       "      <td>1508172545</td>\n",
       "      <td>1730166109</td>\n",
       "      <td>14</td>\n",
       "      <td>14</td>\n",
       "      <td>103.357</td>\n",
       "      <td>75.483</td>\n",
       "    </tr>\n",
       "    <tr>\n",
       "      <th>4</th>\n",
       "      <td>1508285131</td>\n",
       "      <td>1730166109</td>\n",
       "      <td>20</td>\n",
       "      <td>21</td>\n",
       "      <td>89.952</td>\n",
       "      <td>89.880</td>\n",
       "    </tr>\n",
       "    <tr>\n",
       "      <th>...</th>\n",
       "      <td>...</td>\n",
       "      <td>...</td>\n",
       "      <td>...</td>\n",
       "      <td>...</td>\n",
       "      <td>...</td>\n",
       "      <td>...</td>\n",
       "    </tr>\n",
       "    <tr>\n",
       "      <th>9995</th>\n",
       "      <td>1508026980</td>\n",
       "      <td>1730477589</td>\n",
       "      <td>36</td>\n",
       "      <td>46</td>\n",
       "      <td>64.239</td>\n",
       "      <td>77.845</td>\n",
       "    </tr>\n",
       "    <tr>\n",
       "      <th>9996</th>\n",
       "      <td>1497997050</td>\n",
       "      <td>1730477589</td>\n",
       "      <td>38</td>\n",
       "      <td>43</td>\n",
       "      <td>40.395</td>\n",
       "      <td>60.289</td>\n",
       "    </tr>\n",
       "    <tr>\n",
       "      <th>9997</th>\n",
       "      <td>1497977268</td>\n",
       "      <td>1730477761</td>\n",
       "      <td>14</td>\n",
       "      <td>14</td>\n",
       "      <td>37.857</td>\n",
       "      <td>72.533</td>\n",
       "    </tr>\n",
       "    <tr>\n",
       "      <th>9998</th>\n",
       "      <td>1508024217</td>\n",
       "      <td>1730477811</td>\n",
       "      <td>12</td>\n",
       "      <td>12</td>\n",
       "      <td>59.000</td>\n",
       "      <td>46.043</td>\n",
       "    </tr>\n",
       "    <tr>\n",
       "      <th>9999</th>\n",
       "      <td>1508805722</td>\n",
       "      <td>1730477811</td>\n",
       "      <td>26</td>\n",
       "      <td>26</td>\n",
       "      <td>117.500</td>\n",
       "      <td>82.087</td>\n",
       "    </tr>\n",
       "  </tbody>\n",
       "</table>\n",
       "<p>10000 rows × 6 columns</p>\n",
       "</div>"
      ],
      "text/plain": [
       "        from_npi      to_npi  patient_count  transaction_count  \\\n",
       "0     1508062167  1730166109            350                370   \n",
       "1     1508065640  1730166109             25                 25   \n",
       "2     1508052093  1730166109             16                 16   \n",
       "3     1508172545  1730166109             14                 14   \n",
       "4     1508285131  1730166109             20                 21   \n",
       "...          ...         ...            ...                ...   \n",
       "9995  1508026980  1730477589             36                 46   \n",
       "9996  1497997050  1730477589             38                 43   \n",
       "9997  1497977268  1730477761             14                 14   \n",
       "9998  1508024217  1730477811             12                 12   \n",
       "9999  1508805722  1730477811             26                 26   \n",
       "\n",
       "      average_day_wait  std_day_wait  \n",
       "0               53.922        72.612  \n",
       "1               49.800        55.006  \n",
       "2              109.500        70.593  \n",
       "3              103.357        75.483  \n",
       "4               89.952        89.880  \n",
       "...                ...           ...  \n",
       "9995            64.239        77.845  \n",
       "9996            40.395        60.289  \n",
       "9997            37.857        72.533  \n",
       "9998            59.000        46.043  \n",
       "9999           117.500        82.087  \n",
       "\n",
       "[10000 rows x 6 columns]"
      ]
     },
     "execution_count": 8,
     "metadata": {},
     "output_type": "execute_result"
    }
   ],
   "source": [
    "next(chunks)"
   ]
  },
  {
   "cell_type": "markdown",
   "id": "90cd6725",
   "metadata": {},
   "source": [
    "**We want to eliminate \"accidental\" referrals, so filter the hop teaming data so that the transaction_count is at least 50 and the average_day_wait is less than 50.**"
   ]
  },
  {
   "cell_type": "code",
   "execution_count": 9,
   "id": "c9f56820",
   "metadata": {},
   "outputs": [],
   "source": [
    "chunks = pd.read_csv('Hop_Teaming_Data/DocGraph_Hop_Teaming_2018.csv', chunksize=10000)\n",
    "accident_filtered = []\n",
    "for chunk in chunks:\n",
    "    chunk = chunk[(chunk[\"transaction_count\"] >= 50) & (chunk[\"average_day_wait\"] < 50)]\n",
    "    accident_filtered.append(chunk)"
   ]
  },
  {
   "cell_type": "code",
   "execution_count": 10,
   "id": "21b03952",
   "metadata": {},
   "outputs": [
    {
     "data": {
      "text/plain": [
       "21792"
      ]
     },
     "execution_count": 10,
     "metadata": {},
     "output_type": "execute_result"
    }
   ],
   "source": [
    "len(accident_filtered)"
   ]
  },
  {
   "cell_type": "code",
   "execution_count": 12,
   "id": "e20c1e92",
   "metadata": {},
   "outputs": [],
   "source": [
    "hop = pd.concat(accident_filtered, ignore_index = True)"
   ]
  },
  {
   "cell_type": "code",
   "execution_count": 13,
   "id": "baf107c2",
   "metadata": {},
   "outputs": [
    {
     "data": {
      "text/plain": [
       "(34176938, 6)"
      ]
     },
     "execution_count": 13,
     "metadata": {},
     "output_type": "execute_result"
    }
   ],
   "source": [
    "hop.shape"
   ]
  },
  {
   "cell_type": "markdown",
   "id": "a1fe99a7",
   "metadata": {},
   "source": [
    "**First, build a profile of providers referring patients to the major hospitals in Nashville. Are certain specialties more likely to refer to a particular hospital over the others?**"
   ]
  },
  {
   "cell_type": "code",
   "execution_count": null,
   "id": "706d55d9",
   "metadata": {},
   "outputs": [],
   "source": []
  },
  {
   "cell_type": "code",
   "execution_count": null,
   "id": "c42e3f8d",
   "metadata": {},
   "outputs": [],
   "source": []
  },
  {
   "cell_type": "markdown",
   "id": "50f5e7a5",
   "metadata": {},
   "source": [
    "SQLITE"
   ]
  },
  {
   "cell_type": "code",
   "execution_count": 11,
   "id": "f721138e",
   "metadata": {},
   "outputs": [],
   "source": [
    "import sqlite3\n",
    "from tqdm.notebook import tqdm"
   ]
  }
 ],
 "metadata": {
  "kernelspec": {
   "display_name": "Python 3",
   "language": "python",
   "name": "python3"
  },
  "language_info": {
   "codemirror_mode": {
    "name": "ipython",
    "version": 3
   },
   "file_extension": ".py",
   "mimetype": "text/x-python",
   "name": "python",
   "nbconvert_exporter": "python",
   "pygments_lexer": "ipython3",
   "version": "3.8.8"
  }
 },
 "nbformat": 4,
 "nbformat_minor": 5
}
