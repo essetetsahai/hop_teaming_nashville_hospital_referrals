{
 "cells": [
  {
   "cell_type": "code",
   "execution_count": 7,
   "metadata": {},
   "outputs": [],
   "source": [
    "import pandas as pd\n",
    "import sqlite3\n",
    "from tqdm.notebook import tqdm\n",
    "import os "
   ]
  },
  {
   "cell_type": "code",
   "execution_count": 6,
   "metadata": {},
   "outputs": [],
   "source": [
    "#Prefilter out all npidata csv columns that we dont need, created a new csv with the column names to keep\n",
    "save_cols = pd.read_csv('./NPPES_Data_Dissemination_February_2023/new_columns.csv', header=None)\n",
    "save_cols_list = save_cols.iloc[0,:].tolist()"
   ]
  },
  {
   "cell_type": "code",
   "execution_count": 5,
   "metadata": {},
   "outputs": [],
   "source": [
    "def create_database(save_cols):\n",
    "\n",
    "    #Create the 5 tables from DocGraph and NPPES downloads, \n",
    "    # and the 2 tables from the NUCC taxonomy and Zip to CBSA info \n",
    "    # and add them to a new data base called 'hop_db.sqlite'\n",
    "    \n",
    "    db = sqlite3.connect('./data/hop_db.sqlite')\n",
    "\n",
    "    for chunk in tqdm(pd.read_csv('./DocGraph_Hop_Teaming_2018_Commercial/DocGraph_Hop_Teaming_2018.csv', chunksize=100000)):\n",
    "        chunk = chunk[(chunk['transaction_count'] >= 50) & (chunk['average_day_wait'] < 50)] #Prefiltering accidental referrals\n",
    "        chunk.to_sql('hop', db, if_exists = 'append', index = False) \n",
    "\n",
    "    for chunk in tqdm(pd.read_csv('./NPPES_Data_Dissemination_February_2023/endpoint_pfile_20050523-20230212.csv', chunksize=10000)):\n",
    "        chunk.columns = [x.lower().replace(' ', '_') for x in chunk.columns]\n",
    "        chunk.to_sql('endpoint', db, if_exists = 'append', index = False) \n",
    "\n",
    "    for chunk in tqdm(pd.read_csv('./NPPES_Data_Dissemination_February_2023/npidata_pfile_20050523-20230212.csv', dtype=str, chunksize=100000, usecols=save_cols_list)):\n",
    "        chunk.columns = [x.lower().replace(' ', '_') for x in chunk.columns]\n",
    "        chunk.to_sql('npidata', db, if_exists = 'append', index = False)\n",
    "\n",
    "    for chunk in tqdm(pd.read_csv('./NPPES_Data_Dissemination_February_2023/othername_pfile_20050523-20230212.csv', chunksize=10000)):\n",
    "        chunk.columns = [x.lower().replace(' ', '_') for x in chunk.columns]\n",
    "        chunk.to_sql('othername', db, if_exists = 'append', index = False)     \n",
    "\n",
    "    for chunk in tqdm(pd.read_csv('./NPPES_Data_Dissemination_February_2023/pl_pfile_20050523-20230212.csv', chunksize=10000)):\n",
    "        chunk.columns = [x.lower().replace(' ', '_') for x in chunk.columns]\n",
    "        chunk.to_sql('pl', db, if_exists = 'append', index = False)\n",
    "    \n",
    "    # 2 auxilary tables from other  \n",
    "    for chunk in tqdm(pd.read_csv('./data/nucc_taxonomy_230.csv', encoding='unicode_escape', chunksize=1000)):\n",
    "        chunk.columns = [x.lower().replace(' ', '_') for x in chunk.columns]\n",
    "        chunk.to_sql('nucc_taxonomy', db, if_exists = 'append', index = False)  \n",
    "\n",
    "    for chunk in tqdm(pd.read_csv('./data/ZIP_CBSA.csv', chunksize=10000)):\n",
    "        chunk.to_sql('zip_to_cbsa', db, if_exists = 'append', index = False)  \n",
    "\n",
    "    db.close()"
   ]
  },
  {
   "cell_type": "code",
   "execution_count": 8,
   "metadata": {},
   "outputs": [
    {
     "data": {
      "application/vnd.jupyter.widget-view+json": {
       "model_id": "c744b3f22977445babbb5a6b4c70ba3c",
       "version_major": 2,
       "version_minor": 0
      },
      "text/plain": [
       "0it [00:00, ?it/s]"
      ]
     },
     "metadata": {},
     "output_type": "display_data"
    },
    {
     "data": {
      "application/vnd.jupyter.widget-view+json": {
       "model_id": "f7f8b091aaad4bf68617287d1948ed40",
       "version_major": 2,
       "version_minor": 0
      },
      "text/plain": [
       "0it [00:00, ?it/s]"
      ]
     },
     "metadata": {},
     "output_type": "display_data"
    },
    {
     "data": {
      "application/vnd.jupyter.widget-view+json": {
       "model_id": "b0b91132b3804661a52622dd226afc28",
       "version_major": 2,
       "version_minor": 0
      },
      "text/plain": [
       "0it [00:00, ?it/s]"
      ]
     },
     "metadata": {},
     "output_type": "display_data"
    },
    {
     "data": {
      "application/vnd.jupyter.widget-view+json": {
       "model_id": "f3f28d8c8d6344c282da45c50d6d4ac0",
       "version_major": 2,
       "version_minor": 0
      },
      "text/plain": [
       "0it [00:00, ?it/s]"
      ]
     },
     "metadata": {},
     "output_type": "display_data"
    },
    {
     "data": {
      "application/vnd.jupyter.widget-view+json": {
       "model_id": "78048bc4f632464eaa532cb40f897394",
       "version_major": 2,
       "version_minor": 0
      },
      "text/plain": [
       "0it [00:00, ?it/s]"
      ]
     },
     "metadata": {},
     "output_type": "display_data"
    },
    {
     "data": {
      "application/vnd.jupyter.widget-view+json": {
       "model_id": "422f6dc499634180bda04e9984de9587",
       "version_major": 2,
       "version_minor": 0
      },
      "text/plain": [
       "0it [00:00, ?it/s]"
      ]
     },
     "metadata": {},
     "output_type": "display_data"
    },
    {
     "data": {
      "application/vnd.jupyter.widget-view+json": {
       "model_id": "11704ab6165641ddbdf2e6b0106440e4",
       "version_major": 2,
       "version_minor": 0
      },
      "text/plain": [
       "0it [00:00, ?it/s]"
      ]
     },
     "metadata": {},
     "output_type": "display_data"
    }
   ],
   "source": [
    "\n",
    "if os.path.isfile('./data/hop_db.sqlite') != True: # Make sure the data base isn't already created, this is a large DB\n",
    "    create_database(save_cols = save_cols_list)\n"
   ]
  }
 ],
 "metadata": {
  "kernelspec": {
   "display_name": "base",
   "language": "python",
   "name": "python3"
  },
  "language_info": {
   "codemirror_mode": {
    "name": "ipython",
    "version": 3
   },
   "file_extension": ".py",
   "mimetype": "text/x-python",
   "name": "python",
   "nbconvert_exporter": "python",
   "pygments_lexer": "ipython3",
   "version": "3.9.12"
  },
  "orig_nbformat": 4,
  "vscode": {
   "interpreter": {
    "hash": "08210294964727e4010dccc398c44f22b92a2e77e2aceea574ad21eae77cd8e8"
   }
  }
 },
 "nbformat": 4,
 "nbformat_minor": 2
}
