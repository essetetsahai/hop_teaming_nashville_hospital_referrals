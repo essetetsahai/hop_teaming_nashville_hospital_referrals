{
 "cells": [
  {
   "cell_type": "code",
   "execution_count": null,
   "metadata": {},
   "outputs": [],
   "source": [
    "import pandas as pd\n",
    "import sqlite3\n",
    "from tqdm.notebook import tqdm\n",
    "import os.path"
   ]
  },
  {
   "cell_type": "code",
   "execution_count": null,
   "metadata": {},
   "outputs": [],
   "source": [
    "#Prefilter out all npidata csv columns that we dont need, created a new csv with the column names to keep\n",
    "save_cols = pd.read_csv('./NPPES_Data_Dissemination_February_2023/new_columns.csv', header=None)\n",
    "save_cols_list = save_cols.iloc[0,:].tolist()"
   ]
  },
  {
   "cell_type": "code",
   "execution_count": null,
   "metadata": {},
   "outputs": [],
   "source": [
    "\n",
    "df = pd.read_csv('NPPES_Data_Dissemination_February_2023/npidata_pfile_20050523-20230212.csv', \n",
    "                          nrows = 1000, usecols = save_cols_list)\n"
   ]
  },
  {
   "cell_type": "code",
   "execution_count": null,
   "metadata": {},
   "outputs": [],
   "source": [
    "\n",
    "db = sqlite3.connect('./data/hop_db.sqlite')\n",
    "\n",
    "for chunk in tqdm(pd.read_csv('./DocGraph_Hop_Teaming_2018_Commercial/DocGraph_Hop_Teaming_2018.csv', chunksize=100000)):\n",
    "    chunk.to_sql('hop', db, if_exists = 'append', index = False) \n",
    "\n",
    "for chunk in tqdm(pd.read_csv('./NPPES_Data_Dissemination_February_2023/endpoint_pfile_20050523-20230212.csv', chunksize=10000)):\n",
    "    chunk.columns = [x.lower().replace(' ', '_') for x in chunk.columns]\n",
    "    chunk.to_sql('endpoint', db, if_exists = 'append', index = False) \n",
    "\n",
    "# This one needs special treatment for col names \n",
    "for chunk in tqdm(pd.read_csv('./NPPES_Data_Dissemination_February_2023/npidata_pfile_20050523-20230212.csv', chunksize=100000, usecols=save_cols_list)):\n",
    "    chunk.columns = [x.lower().replace(' ', '_') for x in chunk.columns]\n",
    "    chunk.to_sql('npidata', db, if_exists = 'append', index = False)\n",
    "\n",
    "for chunk in tqdm(pd.read_csv('./NPPES_Data_Dissemination_February_2023/othername_pfile_20050523-20230212.csv', chunksize=10000)):\n",
    "    chunk.columns = [x.lower().replace(' ', '_') for x in chunk.columns]\n",
    "    chunk.to_sql('othername', db, if_exists = 'append', index = False)     \n",
    "\n",
    "for chunk in tqdm(pd.read_csv('./NPPES_Data_Dissemination_February_2023/pl_pfile_20050523-20230212.csv', chunksize=10000)):\n",
    "    chunk.columns = [x.lower().replace(' ', '_') for x in chunk.columns]\n",
    "    chunk.to_sql('pl', db, if_exists = 'append', index = False)     \n",
    "         \n",
    "db.close()"
   ]
  },
  {
   "cell_type": "code",
   "execution_count": null,
   "metadata": {},
   "outputs": [],
   "source": [
    "db.close()"
   ]
  },
  {
   "cell_type": "code",
   "execution_count": null,
   "metadata": {},
   "outputs": [],
   "source": [
    "query = \"\"\"\n",
    "SELECT *\n",
    "FROM docgraph AS d\n",
    "\"\"\""
   ]
  },
  {
   "cell_type": "code",
   "execution_count": null,
   "metadata": {},
   "outputs": [],
   "source": [
    "with sqlite3.connect('./data/docgraph_db.sqlite') as db:\n",
    "    test = pd.read_sql(query, db)"
   ]
  }
 ],
 "metadata": {
  "kernelspec": {
   "display_name": "base",
   "language": "python",
   "name": "python3"
  },
  "language_info": {
   "codemirror_mode": {
    "name": "ipython",
    "version": 3
   },
   "file_extension": ".py",
   "mimetype": "text/x-python",
   "name": "python",
   "nbconvert_exporter": "python",
   "pygments_lexer": "ipython3",
   "version": "3.9.12"
  },
  "orig_nbformat": 4,
  "vscode": {
   "interpreter": {
    "hash": "08210294964727e4010dccc398c44f22b92a2e77e2aceea574ad21eae77cd8e8"
   }
  }
 },
 "nbformat": 4,
 "nbformat_minor": 2
}
