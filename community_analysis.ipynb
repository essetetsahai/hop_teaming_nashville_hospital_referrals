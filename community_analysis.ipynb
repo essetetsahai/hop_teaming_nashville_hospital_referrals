{
 "cells": [
  {
   "cell_type": "code",
   "execution_count": 39,
   "metadata": {},
   "outputs": [],
   "source": [
    "import pandas as pd\n",
    "import sqlite3\n",
    "import matplotlib.pyplot as plt\n",
    "import seaborn as sns"
   ]
  },
  {
   "cell_type": "code",
   "execution_count": 3,
   "metadata": {},
   "outputs": [],
   "source": [
    "query = \"\"\"\n",
    "SELECT nc.npi,\n",
    "        organization_name,\n",
    "        first_name,\n",
    "        last_name,\n",
    "        nc.communityid,\n",
    "        t.grouping,\n",
    "        t.classification,\n",
    "        t.specialization,\n",
    "        entity_type_code\n",
    "        \n",
    "FROM npi_community AS nc\n",
    "INNER JOIN npidata AS nd\n",
    "USING(npi)\n",
    "INNER JOIN taxonomy AS t\n",
    "USING(taxonomy_code);\n",
    "\n",
    "\"\"\""
   ]
  },
  {
   "cell_type": "code",
   "execution_count": 6,
   "metadata": {},
   "outputs": [],
   "source": [
    "with sqlite3.connect('./data/hop_db.sqlite') as db: \n",
    "    df = pd.read_sql(query, db)"
   ]
  },
  {
   "cell_type": "code",
   "execution_count": 7,
   "metadata": {},
   "outputs": [
    {
     "data": {
      "text/html": [
       "<div>\n",
       "<style scoped>\n",
       "    .dataframe tbody tr th:only-of-type {\n",
       "        vertical-align: middle;\n",
       "    }\n",
       "\n",
       "    .dataframe tbody tr th {\n",
       "        vertical-align: top;\n",
       "    }\n",
       "\n",
       "    .dataframe thead th {\n",
       "        text-align: right;\n",
       "    }\n",
       "</style>\n",
       "<table border=\"1\" class=\"dataframe\">\n",
       "  <thead>\n",
       "    <tr style=\"text-align: right;\">\n",
       "      <th></th>\n",
       "      <th>npi</th>\n",
       "      <th>organization_name</th>\n",
       "      <th>first_name</th>\n",
       "      <th>last_name</th>\n",
       "      <th>communityid</th>\n",
       "      <th>grouping</th>\n",
       "      <th>classification</th>\n",
       "      <th>specialization</th>\n",
       "      <th>entity_type_code</th>\n",
       "    </tr>\n",
       "  </thead>\n",
       "  <tbody>\n",
       "    <tr>\n",
       "      <th>0</th>\n",
       "      <td>1922001957</td>\n",
       "      <td>None</td>\n",
       "      <td>RICHARD</td>\n",
       "      <td>PRESLEY</td>\n",
       "      <td>6531</td>\n",
       "      <td>Allopathic &amp; Osteopathic Physicians</td>\n",
       "      <td>Obstetrics &amp; Gynecology</td>\n",
       "      <td>None</td>\n",
       "      <td>1</td>\n",
       "    </tr>\n",
       "    <tr>\n",
       "      <th>1</th>\n",
       "      <td>1013910892</td>\n",
       "      <td>None</td>\n",
       "      <td>EMIKO</td>\n",
       "      <td>LEJEUNE</td>\n",
       "      <td>2330</td>\n",
       "      <td>Speech, Language and Hearing Service Providers</td>\n",
       "      <td>Audiologist</td>\n",
       "      <td>None</td>\n",
       "      <td>1</td>\n",
       "    </tr>\n",
       "    <tr>\n",
       "      <th>2</th>\n",
       "      <td>1154324192</td>\n",
       "      <td>None</td>\n",
       "      <td>ELIZABETH</td>\n",
       "      <td>OLDFIELD</td>\n",
       "      <td>6531</td>\n",
       "      <td>Allopathic &amp; Osteopathic Physicians</td>\n",
       "      <td>Obstetrics &amp; Gynecology</td>\n",
       "      <td>None</td>\n",
       "      <td>1</td>\n",
       "    </tr>\n",
       "    <tr>\n",
       "      <th>3</th>\n",
       "      <td>1235132408</td>\n",
       "      <td>None</td>\n",
       "      <td>LEWIS</td>\n",
       "      <td>BELLARDO</td>\n",
       "      <td>6531</td>\n",
       "      <td>Allopathic &amp; Osteopathic Physicians</td>\n",
       "      <td>Obstetrics &amp; Gynecology</td>\n",
       "      <td>None</td>\n",
       "      <td>1</td>\n",
       "    </tr>\n",
       "    <tr>\n",
       "      <th>4</th>\n",
       "      <td>1225031461</td>\n",
       "      <td>None</td>\n",
       "      <td>VARALAXMI</td>\n",
       "      <td>DASARI</td>\n",
       "      <td>6531</td>\n",
       "      <td>Allopathic &amp; Osteopathic Physicians</td>\n",
       "      <td>Radiology</td>\n",
       "      <td>Diagnostic Radiology</td>\n",
       "      <td>1</td>\n",
       "    </tr>\n",
       "  </tbody>\n",
       "</table>\n",
       "</div>"
      ],
      "text/plain": [
       "          npi organization_name first_name last_name  communityid  \\\n",
       "0  1922001957              None    RICHARD   PRESLEY         6531   \n",
       "1  1013910892              None      EMIKO   LEJEUNE         2330   \n",
       "2  1154324192              None  ELIZABETH  OLDFIELD         6531   \n",
       "3  1235132408              None      LEWIS  BELLARDO         6531   \n",
       "4  1225031461              None  VARALAXMI    DASARI         6531   \n",
       "\n",
       "                                         grouping           classification  \\\n",
       "0             Allopathic & Osteopathic Physicians  Obstetrics & Gynecology   \n",
       "1  Speech, Language and Hearing Service Providers              Audiologist   \n",
       "2             Allopathic & Osteopathic Physicians  Obstetrics & Gynecology   \n",
       "3             Allopathic & Osteopathic Physicians  Obstetrics & Gynecology   \n",
       "4             Allopathic & Osteopathic Physicians                Radiology   \n",
       "\n",
       "         specialization entity_type_code  \n",
       "0                  None                1  \n",
       "1                  None                1  \n",
       "2                  None                1  \n",
       "3                  None                1  \n",
       "4  Diagnostic Radiology                1  "
      ]
     },
     "execution_count": 7,
     "metadata": {},
     "output_type": "execute_result"
    }
   ],
   "source": [
    "df.head()"
   ]
  },
  {
   "cell_type": "code",
   "execution_count": 78,
   "metadata": {},
   "outputs": [],
   "source": [
    "graph_data = pd.DataFrame(   df[['communityid']]\n",
    "                            .groupby('communityid')\n",
    "                            .value_counts()[:20]\n",
    "                        ).reset_index().rename(columns = {0:'Number_of_NPIs', 'communityid':'Community_ID'})"
   ]
  },
  {
   "cell_type": "code",
   "execution_count": 79,
   "metadata": {},
   "outputs": [
    {
     "data": {
      "image/png": "[encoded data removed]",
      "text/plain": [
       "<Figure size 750x350 with 1 Axes>"
      ]
     },
     "metadata": {},
     "output_type": "display_data"
    }
   ],
   "source": [
    "plt.rcParams[\"figure.figsize\"] = [7.50, 3.50]\n",
    "plt.rcParams[\"figure.autolayout\"] = True\n",
    "\n",
    "sns.barplot(\n",
    "                data = graph_data,\n",
    "                x = 'Community_ID',\n",
    "                y = 'Number_of_NPIs',\n",
    "                order = graph_data.sort_values('Number_of_NPIs', ascending=False).Community_ID\n",
    "            )\n",
    "plt.xticks(rotation=45)\n",
    "plt.title('Top 20 Communities by Total Members')\n",
    "plt.show()"
   ]
  },
  {
   "attachments": {},
   "cell_type": "markdown",
   "metadata": {},
   "source": [
    "There seems to bee only one big community of providers. Group 43 has the largest network by a mile, with 325 providers. The next highest group is 1606 with 9 providers. "
   ]
  },
  {
   "cell_type": "code",
   "execution_count": null,
   "metadata": {},
   "outputs": [],
   "source": []
  }
 ],
 "metadata": {
  "kernelspec": {
   "display_name": "base",
   "language": "python",
   "name": "python3"
  },
  "language_info": {
   "codemirror_mode": {
    "name": "ipython",
    "version": 3
   },
   "file_extension": ".py",
   "mimetype": "text/x-python",
   "name": "python",
   "nbconvert_exporter": "python",
   "pygments_lexer": "ipython3",
   "version": "3.9.12"
  },
  "orig_nbformat": 4
 },
 "nbformat": 4,
 "nbformat_minor": 2
}
